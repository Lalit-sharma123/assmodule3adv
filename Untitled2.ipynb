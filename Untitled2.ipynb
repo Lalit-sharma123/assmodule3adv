{
  "nbformat": 4,
  "nbformat_minor": 0,
  "metadata": {
    "colab": {
      "provenance": []
    },
    "kernelspec": {
      "name": "python3",
      "display_name": "Python 3"
    },
    "language_info": {
      "name": "python"
    }
  },
  "cells": [
    {
      "cell_type": "markdown",
      "source": [
        "Question1:write a code to reverse a string\n"
      ],
      "metadata": {
        "id": "QAJoT6p2xZOs"
      }
    },
    {
      "cell_type": "code",
      "source": [
        "str1=\"hello\"\n",
        "str1[::-1]"
      ],
      "metadata": {
        "colab": {
          "base_uri": "https://localhost:8080/",
          "height": 36
        },
        "id": "nFLKVHOOxhqD",
        "outputId": "32b9bbeb-96e4-4110-c8e7-edadcc12aec9"
      },
      "execution_count": null,
      "outputs": [
        {
          "output_type": "execute_result",
          "data": {
            "text/plain": [
              "'olleh'"
            ],
            "application/vnd.google.colaboratory.intrinsic+json": {
              "type": "string"
            }
          },
          "metadata": {},
          "execution_count": 5
        }
      ]
    },
    {
      "cell_type": "markdown",
      "source": [
        "Question2:write a code to count the number of vowel in a string"
      ],
      "metadata": {
        "id": "z24LHdQiyJbp"
      }
    },
    {
      "cell_type": "code",
      "source": [
        "input_string=\"hello world ,how are you\"\n",
        "vowels='aeiouAEIOU'\n",
        "vowel_count=0\n",
        "for char in input_string:\n",
        "  if char in vowels:\n",
        "    vowel_count=vowel_count+1\n",
        "print(\"Number of vowels in string:\",vowel_count)\n",
        "\n",
        "\n",
        "\n"
      ],
      "metadata": {
        "colab": {
          "base_uri": "https://localhost:8080/"
        },
        "id": "e0bJS2z5yRuL",
        "outputId": "c7f4ab03-8ed8-4ddb-c1e4-02f7cd371604"
      },
      "execution_count": null,
      "outputs": [
        {
          "output_type": "stream",
          "name": "stdout",
          "text": [
            "Number of vowels in string: 8\n"
          ]
        }
      ]
    },
    {
      "cell_type": "markdown",
      "source": [
        "Question 3: write a code to check a given string is palindorme or not"
      ],
      "metadata": {
        "id": "IgXcQfdQEEc3"
      }
    },
    {
      "cell_type": "code",
      "source": [
        "str1=input(\"enter the string: \")\n",
        "if(str1==str1[::-1]):\n",
        "  print(\"This string is palindrome: \")\n",
        "else:\n",
        "  print(\"This is not palindrome: \")\n"
      ],
      "metadata": {
        "colab": {
          "base_uri": "https://localhost:8080/"
        },
        "id": "Xnlyif5XEUqj",
        "outputId": "32fa1dd1-97ec-421f-a48f-728f9b4067f1"
      },
      "execution_count": null,
      "outputs": [
        {
          "output_type": "stream",
          "name": "stdout",
          "text": [
            "enter the string: naman\n",
            "This stringis palindrome: \n"
          ]
        }
      ]
    },
    {
      "cell_type": "markdown",
      "source": [],
      "metadata": {
        "id": "EjXw-U6kFqt2"
      }
    },
    {
      "cell_type": "markdown",
      "source": [
        "Question 4:write a code to check if a given string are anagrams of each other."
      ],
      "metadata": {
        "id": "QLuWQ_-EFqvp"
      }
    },
    {
      "cell_type": "code",
      "source": [
        "def check(s1,s2):\n",
        "  if(sorted(s1)==sorted(s2)):\n",
        "    print(\"The string is anagram\")\n",
        "  else:\n",
        "    print(\"Not anagram\")\n",
        "s1='listen'\n",
        "s2='silent'\n",
        "check(s1,s2)"
      ],
      "metadata": {
        "colab": {
          "base_uri": "https://localhost:8080/"
        },
        "id": "QGt7EtUYGByK",
        "outputId": "8e12e868-09ee-455f-a663-e7a0d8755317"
      },
      "execution_count": null,
      "outputs": [
        {
          "output_type": "stream",
          "name": "stdout",
          "text": [
            "The string is anagram\n"
          ]
        }
      ]
    },
    {
      "cell_type": "markdown",
      "source": [
        "Question 5: write a code to find all occurences of a given substring within another string"
      ],
      "metadata": {
        "id": "DfA956bJHJl6"
      }
    },
    {
      "cell_type": "code",
      "source": [
        "#"
      ],
      "metadata": {
        "id": "jrNlXYVQHkXS"
      },
      "execution_count": null,
      "outputs": []
    },
    {
      "cell_type": "markdown",
      "source": [],
      "metadata": {
        "id": "1c8gy6J9Im8E"
      }
    },
    {
      "cell_type": "markdown",
      "source": [
        "Question 6: write a code to perform basic string compression usings the counts of repeated characters"
      ],
      "metadata": {
        "id": "-M9knE1sIm91"
      }
    },
    {
      "cell_type": "code",
      "source": [
        "input_string=\"aabbcccccddddeeee\"\n",
        "compresed=\"\"\n",
        "count=1\n",
        "for i in range(len(input_string)-1):\n",
        "  if(input_string[i]==input_string[i+1]):\n",
        "    count=count+1\n",
        "  else:\n",
        "    compresed+=input_string[i]+str(count)\n",
        "    count=1\n",
        "compresed+=input_string[-1]+str(count)\n",
        "print(compresed)"
      ],
      "metadata": {
        "colab": {
          "base_uri": "https://localhost:8080/"
        },
        "id": "IHsMKlGrJD26",
        "outputId": "64274539-b7e4-44af-8d80-627bc24be266"
      },
      "execution_count": null,
      "outputs": [
        {
          "output_type": "stream",
          "name": "stdout",
          "text": [
            "a2b2c5d4e4\n"
          ]
        }
      ]
    },
    {
      "cell_type": "markdown",
      "source": [
        "Question 7:write a code to determine if a string has all unique character"
      ],
      "metadata": {
        "id": "XJQ4TapiNNPp"
      }
    },
    {
      "cell_type": "code",
      "source": [
        "def uniquechar(str):\n",
        "  for i in range(len(str)):\n",
        "    for j in range(i+1,len(str)):\n",
        "      if(str[i]==str[j]):\n",
        "        return False\n",
        "  return True\n",
        "\n",
        "str=\"abcdef\"\n",
        "if(uniquechar(str)):\n",
        "  print(\"The String \",str,\"has all unique character\")\n",
        "else:\n",
        "  print(\"The String \",str,\"has duplicate character\")"
      ],
      "metadata": {
        "colab": {
          "base_uri": "https://localhost:8080/"
        },
        "id": "QFoNdcV1NZ5f",
        "outputId": "f889f4a0-d5e9-443e-c3fb-9f4350c5d7c6"
      },
      "execution_count": null,
      "outputs": [
        {
          "output_type": "stream",
          "name": "stdout",
          "text": [
            "The String  abcdef has all unique character\n"
          ]
        }
      ]
    },
    {
      "cell_type": "markdown",
      "source": [
        "Question 8: write a code to convert given string to lowercase or uppercase"
      ],
      "metadata": {
        "id": "XPrckdpDP23I"
      }
    },
    {
      "cell_type": "code",
      "source": [
        "#for lowercase to uppercase\n",
        "str1=\"abcdefg\"\n",
        "str1.upper()"
      ],
      "metadata": {
        "colab": {
          "base_uri": "https://localhost:8080/",
          "height": 36
        },
        "id": "cCkmGFy6QkH1",
        "outputId": "3019ea3c-a8c0-4363-85f7-a79eb7b10136"
      },
      "execution_count": null,
      "outputs": [
        {
          "output_type": "execute_result",
          "data": {
            "text/plain": [
              "'ABCDEFG'"
            ],
            "application/vnd.google.colaboratory.intrinsic+json": {
              "type": "string"
            }
          },
          "metadata": {},
          "execution_count": 31
        }
      ]
    },
    {
      "cell_type": "code",
      "source": [
        "# for uppercase to lowercase\n",
        "str2=\"MANGO AND APPLE\"\n",
        "str2.lower()\n"
      ],
      "metadata": {
        "colab": {
          "base_uri": "https://localhost:8080/",
          "height": 36
        },
        "id": "BlpHY7cJQ5RE",
        "outputId": "fb81656b-e582-4861-e6ed-7d083ae24de2"
      },
      "execution_count": null,
      "outputs": [
        {
          "output_type": "execute_result",
          "data": {
            "text/plain": [
              "'mango and apple'"
            ],
            "application/vnd.google.colaboratory.intrinsic+json": {
              "type": "string"
            }
          },
          "metadata": {},
          "execution_count": 32
        }
      ]
    },
    {
      "cell_type": "markdown",
      "source": [
        "Question 9: Write a code to count the number of words in a string"
      ],
      "metadata": {
        "id": "2lJqeglfRiKd"
      }
    },
    {
      "cell_type": "code",
      "source": [],
      "metadata": {
        "id": "23LaOJlbSKCM"
      },
      "execution_count": null,
      "outputs": []
    },
    {
      "cell_type": "markdown",
      "source": [
        "Question 10:write a code to concatenate two strings without using the + operator."
      ],
      "metadata": {
        "id": "khkackQXWXTN"
      }
    },
    {
      "cell_type": "code",
      "source": [
        "l1=[1,2,3,4,\"apple\"]\n",
        "l2=[\"mango\",2.2,9,10]\n",
        "l1.append(l2)\n",
        "l1"
      ],
      "metadata": {
        "colab": {
          "base_uri": "https://localhost:8080/"
        },
        "id": "iIKF2d3SWwRa",
        "outputId": "b12338c2-0c3d-47a6-bf85-e61acb328ab5"
      },
      "execution_count": null,
      "outputs": [
        {
          "output_type": "execute_result",
          "data": {
            "text/plain": [
              "[1, 2, 3, 4, 'apple', ['mango', 2.2, 9, 10]]"
            ]
          },
          "metadata": {},
          "execution_count": 2
        }
      ]
    },
    {
      "cell_type": "markdown",
      "source": [
        "Question 11:implement a code to find the second largest number in a given list of integers."
      ],
      "metadata": {
        "id": "_dLg1MFeXk_b"
      }
    },
    {
      "cell_type": "code",
      "source": [
        "lis=[8,6,2,9,12,10,5,6,1]\n",
        "unique_number=list(set(lis))\n",
        "unique_number.sort()\n",
        "if len(unique_number)<2:\n",
        "  print(\"there is no second largest number\")\n",
        "\n",
        "else:\n",
        "  second_largest=unique_number[-2]\n",
        "  print(\"the second largest number is  \",second_largest)\n"
      ],
      "metadata": {
        "colab": {
          "base_uri": "https://localhost:8080/"
        },
        "id": "lZL84IjBXz5u",
        "outputId": "0468da93-98d5-4096-a5d2-0f156c7392b9"
      },
      "execution_count": null,
      "outputs": [
        {
          "output_type": "stream",
          "name": "stdout",
          "text": [
            "the second largest number is   10\n"
          ]
        }
      ]
    },
    {
      "cell_type": "markdown",
      "source": [
        "Question 13: create a code to count the occurrences of each element in a list and return a dictionary with element as key and their counts as values.\n"
      ],
      "metadata": {
        "id": "aC1sM_TMcrM-"
      }
    },
    {
      "cell_type": "code",
      "source": [
        "lis1=[1,1,2,3,2,2,2,4,4,4,3,3]\n",
        "# initiliaze a empty dictionary to counts\n",
        "counts={}\n",
        "for i in lis1:\n",
        "  if i in counts:\n",
        "    counts[i]+=1\n",
        "  else:\n",
        "    counts[i]=1\n",
        "print(counts)"
      ],
      "metadata": {
        "colab": {
          "base_uri": "https://localhost:8080/"
        },
        "id": "DMXrCXqgdVws",
        "outputId": "53d51ef0-f7b9-444c-f601-37970770d680"
      },
      "execution_count": null,
      "outputs": [
        {
          "output_type": "stream",
          "name": "stdout",
          "text": [
            "{1: 2, 2: 4, 3: 3, 4: 3}\n"
          ]
        }
      ]
    },
    {
      "cell_type": "markdown",
      "source": [
        "Question 14: write a code to reverse a list in -place without using any built-in reverse function"
      ],
      "metadata": {
        "id": "S_5CmAbyfXPb"
      }
    },
    {
      "cell_type": "code",
      "source": [
        "x=[1,2,3,4,5,6,7,8,9]\n",
        "left=0\n",
        "right=len(x)-1\n",
        "while left<right:\n",
        "  x[left],x[right]=x[right],x[left]\n",
        "  left+=1\n",
        "  right -=1\n",
        "print(x)"
      ],
      "metadata": {
        "colab": {
          "base_uri": "https://localhost:8080/"
        },
        "id": "sP2yB-kkfvBY",
        "outputId": "9d8e3221-2509-401f-a0db-8e6ed201601a"
      },
      "execution_count": null,
      "outputs": [
        {
          "output_type": "stream",
          "name": "stdout",
          "text": [
            "[9, 8, 7, 6, 5, 4, 3, 2, 1]\n"
          ]
        }
      ]
    },
    {
      "cell_type": "markdown",
      "source": [],
      "metadata": {
        "id": "7TLKCrfqmZk4"
      }
    },
    {
      "cell_type": "markdown",
      "source": [
        "Question 15: implement a code to find and remove duplicates from a list while preserving the original order of element."
      ],
      "metadata": {
        "id": "NuZOmh2smZm0"
      }
    },
    {
      "cell_type": "code",
      "source": [],
      "metadata": {
        "id": "xS3r4oRBmr0J"
      },
      "execution_count": null,
      "outputs": []
    },
    {
      "cell_type": "markdown",
      "source": [
        "\n",
        "\n",
        "---\n",
        "\n"
      ],
      "metadata": {
        "id": "3YiLsgVNmpY8"
      }
    },
    {
      "cell_type": "code",
      "source": [
        "def check_list(lst):\n",
        "  if lst==sorted(lst):\n",
        "    return \"The list is sorted in ascending order\"\n",
        "  elif lst==sorted(lst,reverse=True):\n",
        "    return \"The list is sorted in descending order\"\n",
        "  else:\n",
        "    return \"The list is not sorted\"\n",
        "lst1=[5,4,3,2,1]\n",
        "lst2=[1,2,3,4,5]\n",
        "lst3=[1,4,2,3,5]\n",
        "print(check_list(lst1))\n",
        "print(check_list(lst2))\n",
        "print(check_list(lst3))"
      ],
      "metadata": {
        "colab": {
          "base_uri": "https://localhost:8080/"
        },
        "id": "OcGP9UZziOft",
        "outputId": "013d42c2-8590-438d-cce0-2ce4475491af"
      },
      "execution_count": null,
      "outputs": [
        {
          "output_type": "stream",
          "name": "stdout",
          "text": [
            "The list is sorted in descending order\n",
            "The list is sorted in ascending order\n",
            "The list is not sorted\n"
          ]
        }
      ]
    },
    {
      "cell_type": "markdown",
      "source": [
        "Question 17: create a code to merge two sorted list into a single list"
      ],
      "metadata": {
        "id": "xVKaaH5tln5X"
      }
    },
    {
      "cell_type": "code",
      "source": [
        "list1=[2,3,4,6,5]\n",
        "list2=[9,8,7,1,3]\n",
        "list3=list1+list2\n",
        "sorted(list3)"
      ],
      "metadata": {
        "colab": {
          "base_uri": "https://localhost:8080/"
        },
        "id": "tyOFqS8Wm72M",
        "outputId": "a19d43f3-0b95-4d2a-835d-6eb1cc2cd27c"
      },
      "execution_count": null,
      "outputs": [
        {
          "output_type": "execute_result",
          "data": {
            "text/plain": [
              "[1, 2, 3, 3, 4, 5, 6, 7, 8, 9]"
            ]
          },
          "metadata": {},
          "execution_count": 12
        }
      ]
    },
    {
      "cell_type": "markdown",
      "source": [
        "Question 18: Implement a code to find the intersection of two given list"
      ],
      "metadata": {
        "id": "zCn7NhWJAP0i"
      }
    },
    {
      "cell_type": "code",
      "source": [
        "list1=[2,3,4,6,5]\n",
        "list2=[9,8,7,1,3]\n",
        "#using comprehension\n",
        "intersection=[i for i in list1 if i in list2]\n",
        "print(intersection)"
      ],
      "metadata": {
        "colab": {
          "base_uri": "https://localhost:8080/"
        },
        "id": "BcQp2RkKAfAU",
        "outputId": "d1442160-4318-4c54-aa51-8dde8b0c3d2f"
      },
      "execution_count": null,
      "outputs": [
        {
          "output_type": "stream",
          "name": "stdout",
          "text": [
            "[3]\n"
          ]
        }
      ]
    },
    {
      "cell_type": "markdown",
      "source": [
        "Question 19: create a code to find the union of two list without duplicates."
      ],
      "metadata": {
        "id": "fGh_MBrWBrYl"
      }
    },
    {
      "cell_type": "code",
      "source": [
        "list1=[2,3,4,6,5]\n",
        "list2=[9,8,7,1,3]\n",
        "union=list1 +[i for i in list2 if i not in list1]\n",
        "print(union)"
      ],
      "metadata": {
        "colab": {
          "base_uri": "https://localhost:8080/"
        },
        "id": "6xzUZ3kVB687",
        "outputId": "5ea15105-b990-4de9-e18b-729a2706f91a"
      },
      "execution_count": null,
      "outputs": [
        {
          "output_type": "stream",
          "name": "stdout",
          "text": [
            "[2, 3, 4, 6, 5, 9, 8, 7, 1]\n"
          ]
        }
      ]
    },
    {
      "cell_type": "markdown",
      "source": [
        "Question 20:write a code to shuffle a given list randomly without using any built-in shuffle function"
      ],
      "metadata": {
        "id": "A9KgYcgRDaE7"
      }
    },
    {
      "cell_type": "code",
      "source": [
        " import random\n",
        " lis1=[1,2,3,4,5]\n",
        " print(\"The original list is  :\",list1)\n",
        " random.shuffle(list1)\n",
        " print(\"The shuffled list is: \",list1)"
      ],
      "metadata": {
        "colab": {
          "base_uri": "https://localhost:8080/"
        },
        "id": "MXtEw8HDDbLw",
        "outputId": "5c8bb1a0-1917-4d7c-a706-75fbe18eef48"
      },
      "execution_count": null,
      "outputs": [
        {
          "output_type": "stream",
          "name": "stdout",
          "text": [
            "The original list is  : [1, 2, 3, 4, 5]\n",
            "The shuffled list is:  [1, 3, 4, 5, 2]\n"
          ]
        }
      ]
    },
    {
      "cell_type": "markdown",
      "source": [
        "Question 21: write a code that take two tuple as input and return a new tuple containing elements that are common to both input tuples."
      ],
      "metadata": {
        "id": "045ntsR_Fhwb"
      }
    },
    {
      "cell_type": "code",
      "source": [
        "tup1=input(\"enter the element in tuple1: \")\n",
        "tup2=input(\"enter the element in tuple2: \")\n",
        "tup3=[i for i in tup1 if i in tup2]\n",
        "\n",
        "print(tup3)\n"
      ],
      "metadata": {
        "colab": {
          "base_uri": "https://localhost:8080/"
        },
        "id": "hXT6LSAjF74v",
        "outputId": "663b04ed-768c-4675-cfdf-e94c0d34d38e"
      },
      "execution_count": null,
      "outputs": [
        {
          "output_type": "stream",
          "name": "stdout",
          "text": [
            "enter the element in tuple1: 2,4\n",
            "enter the element in tuple2: 4,1\n",
            "[',', '4']\n"
          ]
        }
      ]
    },
    {
      "cell_type": "markdown",
      "source": [
        "Question 22: create a code that prompts the user to enter two sets of integers separated by commas.then,print the intersection of two sets."
      ],
      "metadata": {
        "id": "ZiVCtenVd6_5"
      }
    },
    {
      "cell_type": "code",
      "source": [
        "user_input1=input(\"enter values,separated by comma: \")\n",
        "user_input2=input(\"enter values, seprated by comma: \")\n",
        "# split he both sets\n",
        "set1=set(int(i) for i in user_input1.split(\",\"))\n",
        "set2=set(int(i) for i in user_input2.split(\",\"))\n",
        "\n",
        "# intersection of sets\n",
        "\n",
        "intersection=set1 & set2\n",
        "print(intersection)\n"
      ],
      "metadata": {
        "colab": {
          "base_uri": "https://localhost:8080/"
        },
        "id": "Gj7SYDtvedWA",
        "outputId": "4b8e06eb-9502-4ae1-ff2f-5569177593a6"
      },
      "execution_count": null,
      "outputs": [
        {
          "output_type": "stream",
          "name": "stdout",
          "text": [
            "enter values,separated by comma: 1,23,5,6\n",
            "enter values, seprated by comma: 3,45,6,7,2\n",
            "{6}\n"
          ]
        }
      ]
    },
    {
      "cell_type": "markdown",
      "source": [
        "Question 23:write a code to concatenate two tuple. The function should take two tuple as input and return a new tuple containing elements from both input tuples."
      ],
      "metadata": {
        "id": "JhcY561ri4Dr"
      }
    },
    {
      "cell_type": "code",
      "source": [
        "def concatenate_tuple(tup1,tup2):\n",
        "  return tup1 + tup2\n",
        "tup1=(1,2,34)\n",
        "tup2=(5,6,78,9)\n",
        "result=concatenate_tuple(tup1,tup2)\n",
        "print(result)\n",
        "\n",
        "# type\n",
        "type(result)"
      ],
      "metadata": {
        "colab": {
          "base_uri": "https://localhost:8080/"
        },
        "id": "PHDycLQ9ksPb",
        "outputId": "8c535b36-b747-4aa7-be4f-1c3cf59fa7cf"
      },
      "execution_count": null,
      "outputs": [
        {
          "output_type": "stream",
          "name": "stdout",
          "text": [
            "(1, 2, 34, 5, 6, 78, 9)\n"
          ]
        },
        {
          "output_type": "execute_result",
          "data": {
            "text/plain": [
              "tuple"
            ]
          },
          "metadata": {},
          "execution_count": 20
        }
      ]
    },
    {
      "cell_type": "markdown",
      "source": [
        "Question 24: Develop a code that prompts the user to input two sets of string  .Then,print te element that are present in first set but not in the second set."
      ],
      "metadata": {
        "id": "lh5eLjSMoDOd"
      }
    },
    {
      "cell_type": "code",
      "source": [
        "def get_set_from_user(prompt):\n",
        "  user_input=input(prompt)\n",
        "\n",
        "  #convert the input string into a set splitting by a spaces\n",
        "  return set(user_input.split())\n",
        "\n",
        "set_a=get_set_from_user(\"enter elements  of the first set: \")\n",
        "set_b=get_set_from_user(\"enter elements of the secnd set: \")\n",
        "\n",
        "#present in set_a but not in set_b\n",
        "\n",
        "differences=set_a - set_b\n",
        "\n",
        "print(\"element in first set but not in second set: \",differences)"
      ],
      "metadata": {
        "colab": {
          "base_uri": "https://localhost:8080/"
        },
        "id": "UbtGgXm_pHgw",
        "outputId": "4c7c4787-da9d-47c9-ca09-49c952c89814"
      },
      "execution_count": null,
      "outputs": [
        {
          "output_type": "stream",
          "name": "stdout",
          "text": [
            "enter elements  of the first set: apple mango fig\n",
            "enter elements of the secnd set: apple fig orange\n",
            "element in first set but not in second set:  {'mango'}\n"
          ]
        }
      ]
    },
    {
      "cell_type": "markdown",
      "source": [
        "Question 25: Create a code that takes a tuple and two integers as input. The function should return a new tuple containing elements from the original tuple within the specified range of indices."
      ],
      "metadata": {
        "id": "OmNYuZAzQTEM"
      }
    },
    {
      "cell_type": "code",
      "source": [],
      "metadata": {
        "id": "LTV7FoQhRLlP"
      },
      "execution_count": null,
      "outputs": []
    },
    {
      "cell_type": "markdown",
      "source": [
        "Question 26: Write a code  that prompts the user to input two set of characters. Then,print the union of these two sets."
      ],
      "metadata": {
        "id": "gT9C2DzrRP0O"
      }
    },
    {
      "cell_type": "code",
      "source": [
        "def set_input(prompt):\n",
        "  user_input=input(prompt)\n",
        "  return set(user_input.split())\n",
        "\n",
        "set1=set_input(\"enter the charaters: \")\n",
        "set2=set_input(\"enter the charaters: \")\n",
        "\n",
        "union_set=set1 | set2\n",
        "\n",
        "print(union_set)\n",
        "\n"
      ],
      "metadata": {
        "colab": {
          "base_uri": "https://localhost:8080/"
        },
        "id": "ejP-xBR7RuJ9",
        "outputId": "07b6e60b-3a15-4345-dc33-6e4761e2b80e"
      },
      "execution_count": null,
      "outputs": [
        {
          "output_type": "stream",
          "name": "stdout",
          "text": [
            "enter the charaters: mango fig\n",
            "enter the charaters: fig orange\n",
            "{'mango', 'fig', 'orange'}\n"
          ]
        }
      ]
    },
    {
      "cell_type": "markdown",
      "source": [
        "Question 27: Develop a code that take a tuple of integers as input.The function should return the maximum and minimuum values from the tuple using tuple unpacking."
      ],
      "metadata": {
        "id": "am5PkFRHT8Ij"
      }
    },
    {
      "cell_type": "code",
      "source": [
        "def find_max_min(numbers):\n",
        "  max_value=max(numbers)\n",
        "  min_value=min(numbers)\n",
        "  return max_value,min_value\n",
        "\n",
        "numbers=(1,2,3,4,8,90,6,78,9)\n",
        "#function call\n",
        "\n",
        "max_value,min_value=find_max_min(numbers)\n",
        "\n",
        "print(f\"Maximum: {max_value},Minimum:{min_value}\")\n",
        "\n",
        "\n",
        "\n"
      ],
      "metadata": {
        "colab": {
          "base_uri": "https://localhost:8080/"
        },
        "id": "RCfPeyM3UZkr",
        "outputId": "bb2a5648-05dc-49d3-ad4d-08aa19867add"
      },
      "execution_count": null,
      "outputs": [
        {
          "output_type": "stream",
          "name": "stdout",
          "text": [
            "Maximum: 90,Minimum:1\n"
          ]
        }
      ]
    },
    {
      "cell_type": "markdown",
      "source": [
        "Question 28: crete a code that define two sets of integers. Then print the union,intersection,and Difference of these two sets.\n",
        "\n",
        "\n"
      ],
      "metadata": {
        "id": "wrMrIp5DWvXS"
      }
    },
    {
      "cell_type": "code",
      "source": [
        "# define two sets\n",
        "set1={1,2,3,4,9}\n",
        "set2={1,5,34,89,9}\n",
        "\n",
        "#union of two sets\n",
        "\n",
        "union_set=set1 | set2\n",
        "\n",
        "# intersection of two sets\n",
        "\n",
        "intersection_set=set1 & set2\n",
        "\n",
        "# difference of two sets\n",
        "difference_set=set1-set2\n",
        "\n",
        "print(f\"union: {union_set}\")\n",
        "print(f\"intersection: {intersection_set}\")\n",
        "print(f\"Difference: {difference_set}\")"
      ],
      "metadata": {
        "colab": {
          "base_uri": "https://localhost:8080/"
        },
        "id": "m3vggGmRXSyO",
        "outputId": "c65c8ad1-a177-4255-f6eb-d5749290ccda"
      },
      "execution_count": null,
      "outputs": [
        {
          "output_type": "stream",
          "name": "stdout",
          "text": [
            "union: {1, 2, 3, 4, 34, 5, 9, 89}\n",
            "intersection: {1, 9}\n",
            "Difference: {2, 3, 4}\n"
          ]
        }
      ]
    },
    {
      "cell_type": "markdown",
      "source": [
        "Question 29: Write a code to take a tuple  and an element as input. The function should return the count of occurrences of the given element in the tuple."
      ],
      "metadata": {
        "id": "Sgd_bVC7fYQr"
      }
    },
    {
      "cell_type": "code",
      "source": [
        "def count_occurrences(tpl,element):\n",
        "  return tpl.count(element)\n",
        "\n",
        "my_tuple=(1,2,3,4,2,5,2)\n",
        "element=2\n",
        "print(count_occurrences(my_tuple,element))"
      ],
      "metadata": {
        "id": "duwNZxDtfwVQ",
        "colab": {
          "base_uri": "https://localhost:8080/"
        },
        "outputId": "7c54d731-6698-483c-ce92-3a02afaf3253"
      },
      "execution_count": 2,
      "outputs": [
        {
          "output_type": "stream",
          "name": "stdout",
          "text": [
            "3\n"
          ]
        }
      ]
    },
    {
      "cell_type": "markdown",
      "source": [
        "Question  30: Develop a code that promptes thhe user to input two sets of strings then print the symmetric diffrences of two sets"
      ],
      "metadata": {
        "id": "uXJKoNBgRsNB"
      }
    },
    {
      "cell_type": "code",
      "source": [
        "def symmetric_difference():\n",
        "  set1=set(input(\"enter the elements of the first set,seperated by spaces: \").split())\n",
        "\n",
        "  set2=set(input(\"enter the element of the second set , seperated by spaces: \").split())\n",
        "\n",
        "  sym_diff=set1.symmetric_difference(set2)\n",
        "\n",
        "  print(\"symmetric difference: sym_diff\")\n",
        "symmetric_difference()"
      ],
      "metadata": {
        "colab": {
          "base_uri": "https://localhost:8080/"
        },
        "id": "rayuyr0zSdun",
        "outputId": "b4506b86-9776-449d-c69a-ff56a8ae730a"
      },
      "execution_count": 5,
      "outputs": [
        {
          "output_type": "stream",
          "name": "stdout",
          "text": [
            "enter the elements of the first set,seperated by spaces: apple banana\n",
            "enter the element of the second set , seperated by spaces: mango banana\n",
            "symmetric difference: sym_diff\n"
          ]
        }
      ]
    },
    {
      "cell_type": "markdown",
      "source": [
        "Question 32: write a code that take two dictionaries as input and merge tem into a single dictionary .if there are common keys the values will be added togethher"
      ],
      "metadata": {
        "id": "3SukQLCuVErm"
      }
    },
    {
      "cell_type": "code",
      "source": [
        "def merge_dictionaries(dict1, dict2):\n",
        "    merged_dict = dict1.copy()  # Start with a copy of the first dictionary\n",
        "\n",
        "    for key, value in dict2.items():\n",
        "        if key in merged_dict:\n",
        "            merged_dict[key] += value  # Add the values if key is common\n",
        "        else:\n",
        "            merged_dict[key] = value  # Add the key-value pair if key is not in the first dictionary\n",
        "\n",
        "    return merged_dict\n",
        "\n",
        "# Example usage\n",
        "dict1 = {'a': 10, 'b': 20, 'c': 30}\n",
        "dict2 = {'b': 15, 'c': 25, 'd': 40}\n",
        "\n",
        "result = merge_dictionaries(dict1, dict2)\n",
        "print(\"Merged Dictionary:\", result)"
      ],
      "metadata": {
        "colab": {
          "base_uri": "https://localhost:8080/"
        },
        "id": "9y6kzA2rVgO1",
        "outputId": "acfed4ba-bda6-4655-f772-3b038888b2b9"
      },
      "execution_count": 6,
      "outputs": [
        {
          "output_type": "stream",
          "name": "stdout",
          "text": [
            "Merged Dictionary: {'a': 10, 'b': 35, 'c': 55, 'd': 40}\n"
          ]
        }
      ]
    },
    {
      "cell_type": "code",
      "source": [],
      "metadata": {
        "id": "AcOxGomtVltd"
      },
      "execution_count": null,
      "outputs": []
    }
  ]
}